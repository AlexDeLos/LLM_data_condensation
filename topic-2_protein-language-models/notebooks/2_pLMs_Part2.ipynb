{
 "cells": [
  {
   "cell_type": "markdown",
   "id": "ad5bd5f0-34c0-4ffd-9256-c0ffcc2eb8bd",
   "metadata": {},
   "source": [
    "# Protein Language Models Part 2\n",
    "### Learning objectives: \n",
    "- Tokenise your data\n",
    "- Train a pLM from scratch\n",
    "- Explore the generative aspect of a pLM"
   ]
  },
  {
   "cell_type": "markdown",
   "id": "fafb7d22-c773-4825-85e2-ea143d03b0cc",
   "metadata": {},
   "source": [
    "Train a small pLM from scratch\n",
    "(Adapted from [DL4Proteins](https://github.com/Graylab/DL4Proteins-notebooks/blob/main/notebooks/WS04_LMsForShakespeareAndProteins.ipynb))\n",
    "### 0. Training set"
   ]
  },
  {
   "cell_type": "code",
   "execution_count": null,
   "id": "f48240d8-88a2-4711-85b9-f97e5875d193",
   "metadata": {},
   "outputs": [],
   "source": [
    "# libraries\n",
    "import torch\n",
    "import torch.nn as nn\n",
    "from torch.nn import functional as F"
   ]
  },
  {
   "cell_type": "code",
   "execution_count": null,
   "id": "ebf6893e-0c88-4e14-8e71-9c44f620b2c1",
   "metadata": {},
   "outputs": [],
   "source": [
    "# load the PDB dataset\n",
    "!mkdir datasets\n",
    "!curl https://files.wwpdb.org/pub/pdb/derived_data/pdb_seqres.txt -o ./datasets/pdb_seqres.txt"
   ]
  },
  {
   "cell_type": "code",
   "execution_count": null,
   "id": "60babffc-905a-42ee-bac8-25c82c65e920",
   "metadata": {},
   "outputs": [],
   "source": [
    "# what is the size of the dataset?\n",
    "with open('./datasets/pdb_seqres.txt', 'r', encoding='utf-8') as f:\n",
    "  text = f.read()\n",
    "print(\"length of dataset in characters: \", len(text))\n",
    "print(text[:1000])\n",
    "\n",
    "# how many unique characters are in the dataset?\n",
    "chars = sorted(list(set(text)))\n",
    "vocab_size = len(chars)\n",
    "print('unique characters:')\n",
    "print(''.join(chars))\n",
    "print()\n",
    "print('Vocab size:', vocab_size)"
   ]
  },
  {
   "cell_type": "code",
   "execution_count": null,
   "id": "fcfb4b0a-3ac2-4d85-9212-5a2af1799f73",
   "metadata": {},
   "outputs": [],
   "source": [
    "# Pick a manual seed\n",
    "torch.manual_seed()"
   ]
  },
  {
   "cell_type": "markdown",
   "id": "013ccaee-0392-4cb1-a6b6-909b258ad05e",
   "metadata": {},
   "source": [
    "### 1. Tokenisation"
   ]
  },
  {
   "cell_type": "code",
   "execution_count": null,
   "id": "63ee7683-27d4-42d5-b0bf-806b674ac96f",
   "metadata": {},
   "outputs": [],
   "source": [
    "# for tokenisation: create a mapping from characters to integers, create a coder and decoder\n",
    "stoi = { ch:i for i,ch in enumerate(chars) }\n",
    "itos = { i:ch for i,ch in enumerate(chars) }\n",
    "encode = lambda s: [stoi[c] for c in s] # encoder: take a string, output a list of integers\n",
    "decode = lambda l: ''.join([itos[i] for i in l]) # decoder: take a list of integers, output a string\n",
    "\n",
    "# bonus: do you have ideas for different tokenisation strategies? \n",
    "\n",
    "\n",
    "# apply to the whole dataset and store as tensor\n",
    "data = torch.tensor(encode(text), dtype=torch.long)\n",
    "print(data.shape, data.dtype)\n",
    "print(data[:1000])"
   ]
  },
  {
   "cell_type": "markdown",
   "id": "b7a90e8f-8133-4eae-9eda-c6fd430c9eb1",
   "metadata": {},
   "source": [
    "### 2. Prepare for Training"
   ]
  },
  {
   "cell_type": "code",
   "execution_count": null,
   "id": "37b2622b-02cd-414c-a835-c3f56e3ea5c6",
   "metadata": {},
   "outputs": [],
   "source": [
    "# Train and test splits\n",
    "n = int(0.9*len(data)) # first 90% will be train, rest val \n",
    "train_data = data[:n]\n",
    "val_data = data[n:]\n",
    "\n",
    "# Bonus: apply a different split strategy"
   ]
  },
  {
   "cell_type": "code",
   "execution_count": null,
   "id": "69a22a0a-3a75-43fb-a1f4-3d62c4db2e73",
   "metadata": {},
   "outputs": [],
   "source": [
    "block_size = 8\n",
    "train_data[:block_size+1] # first 9 characters from training set"
   ]
  },
  {
   "cell_type": "code",
   "execution_count": null,
   "id": "31f12192-2e34-4ca9-a7e5-3d85996e2ef6",
   "metadata": {},
   "outputs": [],
   "source": [
    "# training on each segment is actually training on multiple sets of characters\n",
    "x = train_data[:block_size] # inputs to transformer\n",
    "y = train_data[1:block_size+1] # next block size characters (offset by 1). The targets for each input\n",
    "for t in range(block_size):\n",
    "    context = x[:t+1]\n",
    "    target = y[t]\n",
    "    print(f\"when input is {context} the target: {target}\")"
   ]
  },
  {
   "cell_type": "code",
   "execution_count": null,
   "id": "a8e8fca1-2996-49c2-90a0-c0ad5fbc263f",
   "metadata": {},
   "outputs": [],
   "source": [
    "batch_size = 16\n",
    "device = 'cuda' if torch.cuda.is_available() else 'cpu'\n",
    "\n",
    "# data loading\n",
    "def get_batch(split):\n",
    "    # generate a small batch of data of inputs x and targets y\n",
    "    data = train_data if split == 'train' else val_data\n",
    "    ix = torch.randint(len(data) - block_size, (batch_size,))\n",
    "    x = torch.stack([data[i:i+block_size] for i in ix])\n",
    "    y = torch.stack([data[i+1:i+block_size+1] for i in ix])\n",
    "    x, y = x.to(device), y.to(device)\n",
    "    return x, y\n",
    "\n",
    "xb, yb = get_batch('train')\n",
    "print('input intro transformer:')\n",
    "print(xb.shape)\n",
    "print(xb)\n",
    "print('targets:')\n",
    "print(yb.shape)\n",
    "print(yb)\n",
    "\n",
    "print('----')\n",
    "\n",
    "for b in range(batch_size): # batch dimension\n",
    "    for t in range(block_size): # time dimension\n",
    "        context = xb[b, :t+1]\n",
    "        target = yb[b,t]\n",
    "        print(f\"when input is {context.tolist()} the target: {target}\")"
   ]
  },
  {
   "cell_type": "code",
   "execution_count": null,
   "id": "dad84029-31ef-4197-84a7-21011e811d3d",
   "metadata": {},
   "outputs": [],
   "source": [
    "# hyperparameters\n",
    "batch_size = 16 # how many independent sequences will we process in parallel?\n",
    "block_size = 32 # what is the maximum context length for predictions?\n",
    "max_iters = 5000\n",
    "eval_interval = 100\n",
    "learning_rate = 1e-3\n",
    "device = 'cuda' if torch.cuda.is_available() else 'cpu'\n",
    "eval_iters = 200\n",
    "n_embd = 64\n",
    "n_head = 4\n",
    "n_layer = 4\n",
    "dropout = 0.0"
   ]
  },
  {
   "cell_type": "code",
   "execution_count": null,
   "id": "b51718f5-2df2-4c75-9cac-13d0c6f3747e",
   "metadata": {},
   "outputs": [],
   "source": [
    "# loss function\n",
    "@torch.no_grad()\n",
    "def estimate_loss():\n",
    "    out = {}\n",
    "    model.eval()\n",
    "    for split in ['train', 'val']:\n",
    "        losses = torch.zeros(eval_iters)\n",
    "        for k in range(eval_iters):\n",
    "            X, Y = get_batch(split)\n",
    "            logits, loss = model(X, Y)\n",
    "            losses[k] = loss.item()\n",
    "        out[split] = losses.mean()\n",
    "    model.train()\n",
    "    return out\n",
    "\n",
    "class Head(nn.Module):\n",
    "    \"\"\" one head of self-attention \"\"\"\n",
    "\n",
    "    def __init__(self, head_size):\n",
    "        super().__init__()\n",
    "        self.key = nn.Linear(n_embd, head_size, bias=False)\n",
    "        self.query = nn.Linear(n_embd, head_size, bias=False)\n",
    "        self.value = nn.Linear(n_embd, head_size, bias=False)\n",
    "        self.register_buffer('tril', torch.tril(torch.ones(block_size, block_size)))\n",
    "\n",
    "        self.dropout = nn.Dropout(dropout)\n",
    "\n",
    "    def forward(self, x):\n",
    "        B,T,C = x.shape\n",
    "        k = self.key(x)   # (B,T,C)\n",
    "        q = self.query(x) # (B,T,C)\n",
    "        # compute attention scores (\"affinities\")\n",
    "        wei = q @ k.transpose(-2,-1) * C**-0.5 # (B, T, C) @ (B, C, T) -> (B, T, T)\n",
    "        wei = wei.masked_fill(self.tril[:T, :T] == 0, float('-inf')) # (B, T, T)\n",
    "        wei = F.softmax(wei, dim=-1) # (B, T, T)\n",
    "        wei = self.dropout(wei)\n",
    "        # perform the weighted aggregation of the values\n",
    "        v = self.value(x) # (B,T,C)\n",
    "        out = wei @ v # (B, T, T) @ (B, T, C) -> (B, T, C)\n",
    "        return out\n",
    "\n",
    "class MultiHeadAttention(nn.Module):\n",
    "    \"\"\" multiple heads of self-attention in parallel \"\"\"\n",
    "\n",
    "    def __init__(self, num_heads, head_size):\n",
    "        super().__init__()\n",
    "        self.heads = nn.ModuleList([Head(head_size) for _ in range(num_heads)])\n",
    "        self.proj = nn.Linear(n_embd, n_embd)\n",
    "        self.dropout = nn.Dropout(dropout)\n",
    "\n",
    "    def forward(self, x):\n",
    "        out = torch.cat([h(x) for h in self.heads], dim=-1)\n",
    "        out = self.dropout(self.proj(out))\n",
    "        return out\n",
    "\n",
    "class FeedFoward(nn.Module):\n",
    "    \"\"\" a simple linear layer followed by a non-linearity \"\"\"\n",
    "\n",
    "    def __init__(self, n_embd):\n",
    "        super().__init__()\n",
    "        self.net = nn.Sequential(\n",
    "            nn.Linear(n_embd, 4 * n_embd),\n",
    "            nn.ReLU(),\n",
    "            nn.Linear(4 * n_embd, n_embd),\n",
    "            nn.Dropout(dropout),\n",
    "        )\n",
    "\n",
    "    def forward(self, x):\n",
    "        return self.net(x)\n",
    "\n",
    "class Block(nn.Module):\n",
    "    \"\"\" Transformer block: communication followed by computation \"\"\"\n",
    "\n",
    "    def __init__(self, n_embd, n_head):\n",
    "        # n_embd: embedding dimension, n_head: the number of heads we'd like\n",
    "        super().__init__()\n",
    "        head_size = n_embd // n_head\n",
    "        self.sa = MultiHeadAttention(n_head, head_size)\n",
    "        self.ffwd = FeedFoward(n_embd)\n",
    "        self.ln1 = nn.LayerNorm(n_embd)\n",
    "        self.ln2 = nn.LayerNorm(n_embd)\n",
    "\n",
    "    def forward(self, x):\n",
    "        x = x + self.sa(self.ln1(x))\n",
    "        x = x + self.ffwd(self.ln2(x))\n",
    "        return x\n",
    "\n",
    "# super simple bigram model\n",
    "class BigramLanguageModel(nn.Module):\n",
    "\n",
    "    def __init__(self):\n",
    "        super().__init__()\n",
    "        # each token directly reads off the logits for the next token from a lookup table\n",
    "        self.token_embedding_table = nn.Embedding(vocab_size, n_embd)\n",
    "        self.position_embedding_table = nn.Embedding(block_size, n_embd)\n",
    "        self.blocks = nn.Sequential(*[Block(n_embd, n_head=n_head) for _ in range(n_layer)])\n",
    "        self.ln_f = nn.LayerNorm(n_embd) # final layer norm\n",
    "        self.lm_head = nn.Linear(n_embd, vocab_size)\n",
    "\n",
    "    def forward(self, idx, targets=None):\n",
    "        B, T = idx.shape\n",
    "\n",
    "        # idx and targets are both (B,T) tensor of integers\n",
    "        tok_emb = self.token_embedding_table(idx) # (B,T,C)\n",
    "        pos_emb = self.position_embedding_table(torch.arange(T, device=device)) # (T,C)\n",
    "        x = tok_emb + pos_emb # (B,T,C)\n",
    "        x = self.blocks(x) # (B,T,C)\n",
    "        x = self.ln_f(x) # (B,T,C)\n",
    "        logits = self.lm_head(x) # (B,T,vocab_size)\n",
    "\n",
    "        if targets is None:\n",
    "            loss = None\n",
    "        else:\n",
    "            B, T, C = logits.shape\n",
    "            logits = logits.view(B*T, C)\n",
    "            targets = targets.view(B*T)\n",
    "            loss = F.cross_entropy(logits, targets)\n",
    "\n",
    "        return logits, loss\n",
    "\n",
    "    def generate(self, idx, max_new_tokens):\n",
    "        # idx is (B, T) array of indices in the current context\n",
    "        for _ in range(max_new_tokens):\n",
    "            # crop idx to the last block_size tokens\n",
    "            idx_cond = idx[:, -block_size:]\n",
    "            # get the predictions\n",
    "            logits, loss = self(idx_cond)\n",
    "            # focus only on the last time step\n",
    "            logits = logits[:, -1, :] # becomes (B, C)\n",
    "            # apply softmax to get probabilities\n",
    "            probs = F.softmax(logits, dim=-1) # (B, C)\n",
    "            # sample from the distribution\n",
    "            idx_next = torch.multinomial(probs, num_samples=1) # (B, 1)\n",
    "            # append sampled index to the running sequence\n",
    "            idx = torch.cat((idx, idx_next), dim=1) # (B, T+1)\n",
    "        return idx"
   ]
  },
  {
   "cell_type": "code",
   "execution_count": null,
   "id": "23af7a90-dee8-4378-bd1e-7a3d260ebd0e",
   "metadata": {},
   "outputs": [],
   "source": [
    "# instantiate the model\n",
    "model = BigramLanguageModel()\n",
    "m = model.to(device)\n",
    "# print the number of parameters in the model\n",
    "print(sum(p.numel() for p in m.parameters())/1e6, 'M parameters')\n",
    "\n",
    "# create a PyTorch optimizer\n",
    "optimizer = torch.optim.AdamW(model.parameters(), lr=learning_rate)"
   ]
  },
  {
   "cell_type": "markdown",
   "id": "b9b71c42-e23a-4b24-b7ee-dfe403141f8b",
   "metadata": {},
   "source": [
    "### 3. Training"
   ]
  },
  {
   "cell_type": "code",
   "execution_count": null,
   "id": "fd70bf18-7a5c-4f2a-8bd5-d8f55d32f2ab",
   "metadata": {},
   "outputs": [],
   "source": [
    "# train the model\n",
    "for iter in range(max_iters):\n",
    "\n",
    "    # every once in a while evaluate the loss on train and val sets\n",
    "    if iter % eval_interval == 0 or iter == max_iters - 1:\n",
    "        losses = estimate_loss()\n",
    "        print(f\"step {iter}: train loss {losses['train']:.4f}, val loss {losses['val']:.4f}\")\n",
    "\n",
    "    # sample a batch of data\n",
    "    xb, yb = get_batch('train')\n",
    "\n",
    "    # evaluate the loss\n",
    "    logits, loss = model(xb, yb)\n",
    "    optimizer.zero_grad(set_to_none=True)\n",
    "    loss.backward()\n",
    "    optimizer.step()"
   ]
  },
  {
   "cell_type": "code",
   "execution_count": null,
   "id": "7c34a297-e3b6-4c32-82bd-f1b5e5916bce",
   "metadata": {},
   "outputs": [],
   "source": [
    "# generate from the model\n",
    "# if you want to see how 'protein-like' the sequences are, feed them into AlphaFold2 and see if the sequence folds\n",
    "context = torch.zeros((1, 1), dtype=torch.long, device=device)\n",
    "print(decode(m.generate(context, max_new_tokens=1000)[0].tolist()))"
   ]
  },
  {
   "cell_type": "markdown",
   "id": "5f9a7165-85bc-4362-bc4a-1a43052f7ca3",
   "metadata": {},
   "source": [
    "### 4. Generate new protein sequences"
   ]
  },
  {
   "cell_type": "code",
   "execution_count": null,
   "id": "a39cf7dc-fbfc-4234-9198-197fed35ce64",
   "metadata": {},
   "outputs": [],
   "source": [
    "# generate from the model\n",
    "# input context. try inserting the first few residues of a protein chain!\n",
    "input_context = \"MVHLT\"\n",
    "\n",
    "# encode input\n",
    "encoded_context = encode(input_context)\n",
    "\n",
    "# input into tensor\n",
    "context = torch.tensor([encoded_context], dtype=torch.long, device=device)\n",
    "\n",
    "# generate text using context\n",
    "generated_text = m.generate(context, max_new_tokens=100)[0].tolist()\n",
    "\n",
    "# decode and print text\n",
    "print(decode(generated_text))"
   ]
  },
  {
   "cell_type": "code",
   "execution_count": null,
   "id": "f4ec187e-8102-48b4-a549-6533fbe34342",
   "metadata": {},
   "outputs": [],
   "source": []
  }
 ],
 "metadata": {
  "kernelspec": {
   "display_name": "Python 3 (ipykernel)",
   "language": "python",
   "name": "python3"
  },
  "language_info": {
   "codemirror_mode": {
    "name": "ipython",
    "version": 3
   },
   "file_extension": ".py",
   "mimetype": "text/x-python",
   "name": "python",
   "nbconvert_exporter": "python",
   "pygments_lexer": "ipython3",
   "version": "3.13.2"
  }
 },
 "nbformat": 4,
 "nbformat_minor": 5
}
